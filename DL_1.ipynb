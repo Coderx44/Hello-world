{
  "nbformat": 4,
  "nbformat_minor": 0,
  "metadata": {
    "colab": {
      "provenance": [],
      "authorship_tag": "ABX9TyM5XxPoGUTLF8aAWhXxqQcp",
      "include_colab_link": true
    },
    "kernelspec": {
      "name": "python3",
      "display_name": "Python 3"
    },
    "language_info": {
      "name": "python"
    }
  },
  "cells": [
    {
      "cell_type": "markdown",
      "metadata": {
        "id": "view-in-github",
        "colab_type": "text"
      },
      "source": [
        "<a href=\"https://colab.research.google.com/github/Coderx44/Hello-world/blob/master/DL_1.ipynb\" target=\"_parent\"><img src=\"https://colab.research.google.com/assets/colab-badge.svg\" alt=\"Open In Colab\"/></a>"
      ]
    },
    {
      "cell_type": "code",
      "execution_count": null,
      "metadata": {
        "colab": {
          "base_uri": "https://localhost:8080/"
        },
        "id": "IDu7g6rUGefA",
        "outputId": "daddcd7c-f2c4-4e3f-b7bd-844bd2d89e7c"
      },
      "outputs": [
        {
          "output_type": "stream",
          "name": "stdout",
          "text": [
            "Enter the number of inputs : 2\n",
            "Enter 1th input : \n",
            "5\n",
            "Enter 2th input : \n",
            "3\n",
            "Consider a threshold value for given MP Nueron : \n",
            "4\n",
            "Y is 1\n",
            "Neuron is being fired! \n",
            "Since it is greater than the 4 threshold and aggregate is 8\n"
          ]
        }
      ],
      "source": [
        "\n",
        "# MP Neuron\n",
        "\n",
        "number_of_inputs = int(input(\"Enter the number of inputs : \"))\n",
        "# print(number_of_inputs)\n",
        "# Initializing the list for taking the inputs from user\n",
        "list_of_inputs = []\n",
        "\n",
        "for i in range(number_of_inputs):\n",
        "  print(f\"Enter {i+1}th input : \")\n",
        "  inputs = int(input())\n",
        "  list_of_inputs.append(inputs)\n",
        "aggregate = sum(list_of_inputs)\n",
        "# print(list_of_inputs)\n",
        "\n",
        "# Taking the threshold value from the user\n",
        "print(\"Consider a threshold value for given MP Nueron : \")\n",
        "threshold = int(input())\n",
        "\n",
        "if aggregate >= threshold:\n",
        "  print(\"Y is 1\")\n",
        "  print(\"Neuron is being fired! \")\n",
        "  print(f\"Since it is greater than the {threshold} threshold and aggregate is {aggregate}\")\n",
        "else:\n",
        "  print(\"Y is 0\")\n",
        "  print(\"Neuron is not being fired! \")\n",
        "  print(f\"Since it is not greater than the {threshold} threshold and aggregate is {aggregate}\")"
      ]
    }
  ]
}