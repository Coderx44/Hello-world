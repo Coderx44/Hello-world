{
  "nbformat": 4,
  "nbformat_minor": 0,
  "metadata": {
    "colab": {
      "provenance": [],
      "include_colab_link": true
    },
    "kernelspec": {
      "name": "python3",
      "display_name": "Python 3"
    },
    "language_info": {
      "name": "python"
    },
    "accelerator": "GPU"
  },
  "cells": [
    {
      "cell_type": "markdown",
      "metadata": {
        "id": "view-in-github",
        "colab_type": "text"
      },
      "source": [
        "<a href=\"https://colab.research.google.com/github/Coderx44/Hello-world/blob/master/DL_4.ipynb\" target=\"_parent\"><img src=\"https://colab.research.google.com/assets/colab-badge.svg\" alt=\"Open In Colab\"/></a>"
      ]
    },
    {
      "cell_type": "code",
      "execution_count": null,
      "metadata": {
        "id": "fs27_e3dHa-B"
      },
      "outputs": [],
      "source": [
        "import pandas as pd\n",
        "import numpy as np\n",
        "import tensorflow as tf\n",
        "from tensorflow import keras\n",
        "from tensorflow.keras import models,datasets,layers\n",
        "import matplotlib.pyplot as plt\n",
        "import matplotlib.image as mp"
      ]
    },
    {
      "cell_type": "code",
      "source": [],
      "metadata": {
        "id": "V9R5Bg5dkkYN"
      },
      "execution_count": null,
      "outputs": []
    },
    {
      "cell_type": "code",
      "source": [
        "(x_train,y_train),(x_test,y_test)=datasets.cifar10.load_data()"
      ],
      "metadata": {
        "colab": {
          "base_uri": "https://localhost:8080/"
        },
        "id": "rweFTYbiIbkp",
        "outputId": "bcfc7297-6ba2-4dc5-f514-9ef3b8970f8a"
      },
      "execution_count": null,
      "outputs": [
        {
          "output_type": "stream",
          "name": "stdout",
          "text": [
            "Downloading data from https://www.cs.toronto.edu/~kriz/cifar-10-python.tar.gz\n",
            "170500096/170498071 [==============================] - 15s 0us/step\n",
            "170508288/170498071 [==============================] - 15s 0us/step\n"
          ]
        }
      ]
    },
    {
      "cell_type": "code",
      "source": [
        "print(x_train.shape)\n",
        "print(y_train.shape)\n",
        "print(x_test.shape)\n",
        "print(y_test.shape)"
      ],
      "metadata": {
        "colab": {
          "base_uri": "https://localhost:8080/"
        },
        "id": "7oIxFetHI0PI",
        "outputId": "0315fe02-d408-43da-a36c-11b2a89c32ad"
      },
      "execution_count": null,
      "outputs": [
        {
          "output_type": "stream",
          "name": "stdout",
          "text": [
            "(50000, 32, 32, 3)\n",
            "(50000, 1)\n",
            "(10000, 32, 32, 3)\n",
            "(10000, 1)\n"
          ]
        }
      ]
    },
    {
      "cell_type": "code",
      "source": [
        "plt.imshow(x_train[5])"
      ],
      "metadata": {
        "colab": {
          "base_uri": "https://localhost:8080/",
          "height": 283
        },
        "id": "QANhYFxtmCw3",
        "outputId": "a42243f8-3420-4cf1-b9e0-ae49bea3d81d"
      },
      "execution_count": null,
      "outputs": [
        {
          "output_type": "execute_result",
          "data": {
            "text/plain": [
              "<matplotlib.image.AxesImage at 0x7f74915e3250>"
            ]
          },
          "metadata": {},
          "execution_count": 4
        },
        {
          "output_type": "display_data",
          "data": {
            "text/plain": [
              "<Figure size 432x288 with 1 Axes>"
            ],
            "image/png": "[encoded data removed]"
          },
          "metadata": {
            "needs_background": "light"
          }
        }
      ]
    },
    {
      "cell_type": "code",
      "source": [
        "x_train=x_train/255\n",
        "x_test=x_test/255"
      ],
      "metadata": {
        "id": "CnllMr8SJI5r"
      },
      "execution_count": null,
      "outputs": []
    },
    {
      "cell_type": "code",
      "source": [
        "model=models.Sequential()\n",
        "\n",
        "\n",
        "model.add(layers.Flatten(input_shape=(32,32,3)))\n",
        "model.add(layers.Dense(64,activation='relu'))\n",
        "model.add(layers.Dense(32,activation='relu'))\n",
        "model.add(layers.Dense(16,activation='relu'))\n",
        "model.add(layers.Dense(10,activation='softmax'))"
      ],
      "metadata": {
        "id": "-xs0yieRJdc8"
      },
      "execution_count": null,
      "outputs": []
    },
    {
      "cell_type": "code",
      "source": [
        "model.compile(optimizer='adam',\n",
        "              loss='sparse_categorical_crossentropy',\n",
        "              metrics=['accuracy'])"
      ],
      "metadata": {
        "id": "5_qli7GJKnfy"
      },
      "execution_count": null,
      "outputs": []
    },
    {
      "cell_type": "code",
      "source": [
        "h1=model.fit(x_train,y_train,epochs=50,validation_data=(x_test,y_test))"
      ],
      "metadata": {
        "colab": {
          "base_uri": "https://localhost:8080/"
        },
        "id": "K4u7v4AyLEVq",
        "outputId": "e575935e-a4fa-4e81-ff5f-038aca59b3ba"
      },
      "execution_count": null,
      "outputs": [
        {
          "output_type": "stream",
          "name": "stdout",
          "text": [
            "Epoch 1/50\n",
            "1563/1563 [==============================] - 6s 4ms/step - loss: 1.9661 - accuracy: 0.2747 - val_loss: 1.8284 - val_accuracy: 0.3322\n",
            "Epoch 2/50\n",
            "1563/1563 [==============================] - 5s 3ms/step - loss: 1.7872 - accuracy: 0.3528 - val_loss: 1.7834 - val_accuracy: 0.3646\n",
            "Epoch 3/50\n",
            "1563/1563 [==============================] - 5s 3ms/step - loss: 1.7285 - accuracy: 0.3741 - val_loss: 1.7249 - val_accuracy: 0.3833\n",
            "Epoch 4/50\n",
            "1563/1563 [==============================] - 5s 3ms/step - loss: 1.6861 - accuracy: 0.3920 - val_loss: 1.6808 - val_accuracy: 0.3961\n",
            "Epoch 5/50\n",
            "1563/1563 [==============================] - 5s 3ms/step - loss: 1.6587 - accuracy: 0.3996 - val_loss: 1.6357 - val_accuracy: 0.4161\n",
            "Epoch 6/50\n",
            "1563/1563 [==============================] - 5s 3ms/step - loss: 1.6338 - accuracy: 0.4095 - val_loss: 1.6221 - val_accuracy: 0.4143\n",
            "Epoch 7/50\n",
            "1563/1563 [==============================] - 5s 3ms/step - loss: 1.6177 - accuracy: 0.4185 - val_loss: 1.6237 - val_accuracy: 0.4076\n",
            "Epoch 8/50\n",
            "1563/1563 [==============================] - 6s 4ms/step - loss: 1.6002 - accuracy: 0.4220 - val_loss: 1.6057 - val_accuracy: 0.4231\n",
            "Epoch 9/50\n",
            "1563/1563 [==============================] - 6s 4ms/step - loss: 1.5885 - accuracy: 0.4266 - val_loss: 1.6247 - val_accuracy: 0.4132\n",
            "Epoch 10/50\n",
            "1563/1563 [==============================] - 5s 3ms/step - loss: 1.5707 - accuracy: 0.4354 - val_loss: 1.5724 - val_accuracy: 0.4417\n",
            "Epoch 11/50\n",
            "1563/1563 [==============================] - 5s 3ms/step - loss: 1.5616 - accuracy: 0.4361 - val_loss: 1.5776 - val_accuracy: 0.4330\n",
            "Epoch 12/50\n",
            "1563/1563 [==============================] - 5s 3ms/step - loss: 1.5527 - accuracy: 0.4416 - val_loss: 1.5485 - val_accuracy: 0.4446\n",
            "Epoch 13/50\n",
            "1563/1563 [==============================] - 5s 3ms/step - loss: 1.5461 - accuracy: 0.4432 - val_loss: 1.5975 - val_accuracy: 0.4220\n",
            "Epoch 14/50\n",
            "1563/1563 [==============================] - 5s 3ms/step - loss: 1.5406 - accuracy: 0.4451 - val_loss: 1.5607 - val_accuracy: 0.4423\n",
            "Epoch 15/50\n",
            "1563/1563 [==============================] - 5s 3ms/step - loss: 1.5341 - accuracy: 0.4496 - val_loss: 1.5964 - val_accuracy: 0.4377\n",
            "Epoch 16/50\n",
            "1563/1563 [==============================] - 5s 3ms/step - loss: 1.5275 - accuracy: 0.4502 - val_loss: 1.5811 - val_accuracy: 0.4323\n",
            "Epoch 17/50\n",
            "1563/1563 [==============================] - 5s 3ms/step - loss: 1.5228 - accuracy: 0.4527 - val_loss: 1.5613 - val_accuracy: 0.4413\n",
            "Epoch 18/50\n",
            "1563/1563 [==============================] - 5s 3ms/step - loss: 1.5194 - accuracy: 0.4539 - val_loss: 1.5798 - val_accuracy: 0.4338\n",
            "Epoch 19/50\n",
            "1563/1563 [==============================] - 5s 3ms/step - loss: 1.5108 - accuracy: 0.4563 - val_loss: 1.5531 - val_accuracy: 0.4436\n",
            "Epoch 20/50\n",
            "1563/1563 [==============================] - 6s 4ms/step - loss: 1.5098 - accuracy: 0.4577 - val_loss: 1.5526 - val_accuracy: 0.4455\n",
            "Epoch 21/50\n",
            "1563/1563 [==============================] - 5s 3ms/step - loss: 1.5067 - accuracy: 0.4580 - val_loss: 1.5381 - val_accuracy: 0.4487\n",
            "Epoch 22/50\n",
            "1563/1563 [==============================] - 5s 3ms/step - loss: 1.5025 - accuracy: 0.4633 - val_loss: 1.5626 - val_accuracy: 0.4385\n",
            "Epoch 23/50\n",
            "1563/1563 [==============================] - 5s 3ms/step - loss: 1.5013 - accuracy: 0.4609 - val_loss: 1.5424 - val_accuracy: 0.4408\n",
            "Epoch 24/50\n",
            "1563/1563 [==============================] - 5s 3ms/step - loss: 1.4978 - accuracy: 0.4627 - val_loss: 1.5303 - val_accuracy: 0.4521\n",
            "Epoch 25/50\n",
            "1563/1563 [==============================] - 5s 3ms/step - loss: 1.4933 - accuracy: 0.4643 - val_loss: 1.5281 - val_accuracy: 0.4466\n",
            "Epoch 26/50\n",
            "1563/1563 [==============================] - 5s 3ms/step - loss: 1.4892 - accuracy: 0.4634 - val_loss: 1.5682 - val_accuracy: 0.4401\n",
            "Epoch 27/50\n",
            "1563/1563 [==============================] - 5s 3ms/step - loss: 1.4878 - accuracy: 0.4642 - val_loss: 1.5293 - val_accuracy: 0.4503\n",
            "Epoch 28/50\n",
            "1563/1563 [==============================] - 5s 3ms/step - loss: 1.4861 - accuracy: 0.4662 - val_loss: 1.5552 - val_accuracy: 0.4468\n",
            "Epoch 29/50\n",
            "1563/1563 [==============================] - 5s 3ms/step - loss: 1.4821 - accuracy: 0.4668 - val_loss: 1.5749 - val_accuracy: 0.4323\n",
            "Epoch 30/50\n",
            "1563/1563 [==============================] - 5s 3ms/step - loss: 1.4836 - accuracy: 0.4666 - val_loss: 1.5739 - val_accuracy: 0.4325\n",
            "Epoch 31/50\n",
            "1563/1563 [==============================] - 5s 3ms/step - loss: 1.4763 - accuracy: 0.4700 - val_loss: 1.6039 - val_accuracy: 0.4249\n",
            "Epoch 32/50\n",
            "1563/1563 [==============================] - 5s 3ms/step - loss: 1.4760 - accuracy: 0.4708 - val_loss: 1.5236 - val_accuracy: 0.4497\n",
            "Epoch 33/50\n",
            "1563/1563 [==============================] - 5s 3ms/step - loss: 1.4746 - accuracy: 0.4698 - val_loss: 1.5373 - val_accuracy: 0.4424\n",
            "Epoch 34/50\n",
            "1563/1563 [==============================] - 5s 3ms/step - loss: 1.4699 - accuracy: 0.4711 - val_loss: 1.5578 - val_accuracy: 0.4430\n",
            "Epoch 35/50\n",
            "1563/1563 [==============================] - 5s 3ms/step - loss: 1.4685 - accuracy: 0.4717 - val_loss: 1.5576 - val_accuracy: 0.4448\n",
            "Epoch 36/50\n",
            "1563/1563 [==============================] - 5s 3ms/step - loss: 1.4662 - accuracy: 0.4742 - val_loss: 1.5420 - val_accuracy: 0.4445\n",
            "Epoch 37/50\n",
            "1563/1563 [==============================] - 5s 3ms/step - loss: 1.4640 - accuracy: 0.4750 - val_loss: 1.5179 - val_accuracy: 0.4539\n",
            "Epoch 38/50\n",
            "1563/1563 [==============================] - 5s 3ms/step - loss: 1.4593 - accuracy: 0.4765 - val_loss: 1.5509 - val_accuracy: 0.4475\n",
            "Epoch 39/50\n",
            "1563/1563 [==============================] - 5s 3ms/step - loss: 1.4592 - accuracy: 0.4749 - val_loss: 1.5549 - val_accuracy: 0.4450\n",
            "Epoch 40/50\n",
            "1563/1563 [==============================] - 5s 3ms/step - loss: 1.4570 - accuracy: 0.4774 - val_loss: 1.5890 - val_accuracy: 0.4360\n",
            "Epoch 41/50\n",
            "1563/1563 [==============================] - 6s 4ms/step - loss: 1.4556 - accuracy: 0.4786 - val_loss: 1.5449 - val_accuracy: 0.4520\n",
            "Epoch 42/50\n",
            "1563/1563 [==============================] - 5s 3ms/step - loss: 1.4525 - accuracy: 0.4801 - val_loss: 1.5183 - val_accuracy: 0.4565\n",
            "Epoch 43/50\n",
            "1563/1563 [==============================] - 5s 3ms/step - loss: 1.4514 - accuracy: 0.4791 - val_loss: 1.5502 - val_accuracy: 0.4477\n",
            "Epoch 44/50\n",
            "1563/1563 [==============================] - 5s 3ms/step - loss: 1.4490 - accuracy: 0.4809 - val_loss: 1.5719 - val_accuracy: 0.4340\n",
            "Epoch 45/50\n",
            "1563/1563 [==============================] - 5s 3ms/step - loss: 1.4488 - accuracy: 0.4796 - val_loss: 1.5402 - val_accuracy: 0.4418\n",
            "Epoch 46/50\n",
            "1563/1563 [==============================] - 5s 3ms/step - loss: 1.4456 - accuracy: 0.4800 - val_loss: 1.5053 - val_accuracy: 0.4618\n",
            "Epoch 47/50\n",
            "1563/1563 [==============================] - 5s 3ms/step - loss: 1.4446 - accuracy: 0.4790 - val_loss: 1.5353 - val_accuracy: 0.4503\n",
            "Epoch 48/50\n",
            "1563/1563 [==============================] - 5s 3ms/step - loss: 1.4435 - accuracy: 0.4828 - val_loss: 1.5615 - val_accuracy: 0.4431\n",
            "Epoch 49/50\n",
            "1563/1563 [==============================] - 5s 3ms/step - loss: 1.4456 - accuracy: 0.4826 - val_loss: 1.5171 - val_accuracy: 0.4574\n",
            "Epoch 50/50\n",
            "1563/1563 [==============================] - 5s 3ms/step - loss: 1.4419 - accuracy: 0.4822 - val_loss: 1.5261 - val_accuracy: 0.4511\n"
          ]
        }
      ]
    },
    {
      "cell_type": "code",
      "source": [],
      "metadata": {
        "id": "wPDTxO3vLYat"
      },
      "execution_count": null,
      "outputs": []
    }
  ]
}