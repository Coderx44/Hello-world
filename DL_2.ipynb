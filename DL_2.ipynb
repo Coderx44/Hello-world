{
  "nbformat": 4,
  "nbformat_minor": 0,
  "metadata": {
    "colab": {
      "provenance": [],
      "collapsed_sections": [],
      "include_colab_link": true
    },
    "kernelspec": {
      "name": "python3",
      "display_name": "Python 3"
    },
    "language_info": {
      "name": "python"
    }
  },
  "cells": [
    {
      "cell_type": "markdown",
      "metadata": {
        "id": "view-in-github",
        "colab_type": "text"
      },
      "source": [
        "<a href=\"https://colab.research.google.com/github/Coderx44/Hello-world/blob/master/DL_2.ipynb\" target=\"_parent\"><img src=\"https://colab.research.google.com/assets/colab-badge.svg\" alt=\"Open In Colab\"/></a>"
      ]
    },
    {
      "cell_type": "code",
      "execution_count": null,
      "metadata": {
        "id": "Unp1GZWIuuoT"
      },
      "outputs": [],
      "source": [
        "import pandas as pd\n",
        "import numpy as np\n",
        "import tensorflow as tf\n",
        "from tensorflow import keras\n",
        "from tensorflow.keras import layers,models\n",
        "from sklearn.model_selection import train_test_split\n",
        "from sklearn.preprocessing import StandardScaler"
      ]
    },
    {
      "cell_type": "code",
      "source": [
        "from google.colab import drive\n",
        "drive.mount('/content/drive')"
      ],
      "metadata": {
        "colab": {
          "base_uri": "https://localhost:8080/"
        },
        "id": "HFSXsagBve_9",
        "outputId": "fc30ff15-ba67-4544-a5ba-75dfd0653ab2"
      },
      "execution_count": null,
      "outputs": [
        {
          "output_type": "stream",
          "name": "stdout",
          "text": [
            "Mounted at /content/drive\n"
          ]
        }
      ]
    },
    {
      "cell_type": "code",
      "source": [
        "df=pd.read_csv('/content/drive/MyDrive/DL_LAB/diabetes.csv')\n",
        "df.head()"
      ],
      "metadata": {
        "colab": {
          "base_uri": "https://localhost:8080/",
          "height": 214
        },
        "id": "6Atm2S3xvu34",
        "outputId": "1db604da-3dc4-4ab3-8895-c094e6432606"
      },
      "execution_count": null,
      "outputs": [
        {
          "output_type": "execute_result",
          "data": {
            "text/plain": [
              "   Pregnancies  Glucose  BloodPressure  SkinThickness  Insulin   BMI  \\\n",
              "0            6      148             72             35        0  33.6   \n",
              "1            1       85             66             29        0  26.6   \n",
              "2            8      183             64              0        0  23.3   \n",
              "3            1       89             66             23       94  28.1   \n",
              "4            0      137             40             35      168  43.1   \n",
              "\n",
              "   DiabetesPedigreeFunction  Age  Outcome  \n",
              "0                     0.627   50        1  \n",
              "1                     0.351   31        0  \n",
              "2                     0.672   32        1  \n",
              "3                     0.167   21        0  \n",
              "4                     2.288   33        1  "
            ],
            "text/html": [
              "\n",
              "  <div id=\"df-7e85806a-c62d-4f4a-a34d-bdaa99e437ee\">\n",
              "    <div class=\"colab-df-container\">\n",
              "      <div>\n",
              "<style scoped>\n",
              "    .dataframe tbody tr th:only-of-type {\n",
              "        vertical-align: middle;\n",
              "    }\n",
              "\n",
              "    .dataframe tbody tr th {\n",
              "        vertical-align: top;\n",
              "    }\n",
              "\n",
              "    .dataframe thead th {\n",
              "        text-align: right;\n",
              "    }\n",
              "</style>\n",
              "<table border=\"1\" class=\"dataframe\">\n",
              "  <thead>\n",
              "    <tr style=\"text-align: right;\">\n",
              "      <th></th>\n",
              "      <th>Pregnancies</th>\n",
              "      <th>Glucose</th>\n",
              "      <th>BloodPressure</th>\n",
              "      <th>SkinThickness</th>\n",
              "      <th>Insulin</th>\n",
              "      <th>BMI</th>\n",
              "      <th>DiabetesPedigreeFunction</th>\n",
              "      <th>Age</th>\n",
              "      <th>Outcome</th>\n",
              "    </tr>\n",
              "  </thead>\n",
              "  <tbody>\n",
              "    <tr>\n",
              "      <th>0</th>\n",
              "      <td>6</td>\n",
              "      <td>148</td>\n",
              "      <td>72</td>\n",
              "      <td>35</td>\n",
              "      <td>0</td>\n",
              "      <td>33.6</td>\n",
              "      <td>0.627</td>\n",
              "      <td>50</td>\n",
              "      <td>1</td>\n",
              "    </tr>\n",
              "    <tr>\n",
              "      <th>1</th>\n",
              "      <td>1</td>\n",
              "      <td>85</td>\n",
              "      <td>66</td>\n",
              "      <td>29</td>\n",
              "      <td>0</td>\n",
              "      <td>26.6</td>\n",
              "      <td>0.351</td>\n",
              "      <td>31</td>\n",
              "      <td>0</td>\n",
              "    </tr>\n",
              "    <tr>\n",
              "      <th>2</th>\n",
              "      <td>8</td>\n",
              "      <td>183</td>\n",
              "      <td>64</td>\n",
              "      <td>0</td>\n",
              "      <td>0</td>\n",
              "      <td>23.3</td>\n",
              "      <td>0.672</td>\n",
              "      <td>32</td>\n",
              "      <td>1</td>\n",
              "    </tr>\n",
              "    <tr>\n",
              "      <th>3</th>\n",
              "      <td>1</td>\n",
              "      <td>89</td>\n",
              "      <td>66</td>\n",
              "      <td>23</td>\n",
              "      <td>94</td>\n",
              "      <td>28.1</td>\n",
              "      <td>0.167</td>\n",
              "      <td>21</td>\n",
              "      <td>0</td>\n",
              "    </tr>\n",
              "    <tr>\n",
              "      <th>4</th>\n",
              "      <td>0</td>\n",
              "      <td>137</td>\n",
              "      <td>40</td>\n",
              "      <td>35</td>\n",
              "      <td>168</td>\n",
              "      <td>43.1</td>\n",
              "      <td>2.288</td>\n",
              "      <td>33</td>\n",
              "      <td>1</td>\n",
              "    </tr>\n",
              "  </tbody>\n",
              "</table>\n",
              "</div>\n",
              "      <button class=\"colab-df-convert\" onclick=\"convertToInteractive('df-7e85806a-c62d-4f4a-a34d-bdaa99e437ee')\"\n",
              "              title=\"Convert this dataframe to an interactive table.\"\n",
              "              style=\"display:none;\">\n",
              "        \n",
              "  <svg xmlns=\"http://www.w3.org/2000/svg\" height=\"24px\"viewBox=\"0 0 24 24\"\n",
              "       width=\"24px\">\n",
              "    <path d=\"M0 0h24v24H0V0z\" fill=\"none\"/>\n",
              "    <path d=\"M18.56 5.44l.94 2.06.94-2.06 2.06-.94-2.06-.94-.94-2.06-.94 2.06-2.06.94zm-11 1L8.5 8.5l.94-2.06 2.06-.94-2.06-.94L8.5 2.5l-.94 2.06-2.06.94zm10 10l.94 2.06.94-2.06 2.06-.94-2.06-.94-.94-2.06-.94 2.06-2.06.94z\"/><path d=\"M17.41 7.96l-1.37-1.37c-.4-.4-.92-.59-1.43-.59-.52 0-1.04.2-1.43.59L10.3 9.45l-7.72 7.72c-.78.78-.78 2.05 0 2.83L4 21.41c.39.39.9.59 1.41.59.51 0 1.02-.2 1.41-.59l7.78-7.78 2.81-2.81c.8-.78.8-2.07 0-2.86zM5.41 20L4 18.59l7.72-7.72 1.47 1.35L5.41 20z\"/>\n",
              "  </svg>\n",
              "      </button>\n",
              "      \n",
              "  <style>\n",
              "    .colab-df-container {\n",
              "      display:flex;\n",
              "      flex-wrap:wrap;\n",
              "      gap: 12px;\n",
              "    }\n",
              "\n",
              "    .colab-df-convert {\n",
              "      background-color: #E8F0FE;\n",
              "      border: none;\n",
              "      border-radius: 50%;\n",
              "      cursor: pointer;\n",
              "      display: none;\n",
              "      fill: #1967D2;\n",
              "      height: 32px;\n",
              "      padding: 0 0 0 0;\n",
              "      width: 32px;\n",
              "    }\n",
              "\n",
              "    .colab-df-convert:hover {\n",
              "      background-color: #E2EBFA;\n",
              "      box-shadow: 0px 1px 2px rgba(60, 64, 67, 0.3), 0px 1px 3px 1px rgba(60, 64, 67, 0.15);\n",
              "      fill: #174EA6;\n",
              "    }\n",
              "\n",
              "    [theme=dark] .colab-df-convert {\n",
              "      background-color: #3B4455;\n",
              "      fill: #D2E3FC;\n",
              "    }\n",
              "\n",
              "    [theme=dark] .colab-df-convert:hover {\n",
              "      background-color: #434B5C;\n",
              "      box-shadow: 0px 1px 3px 1px rgba(0, 0, 0, 0.15);\n",
              "      filter: drop-shadow(0px 1px 2px rgba(0, 0, 0, 0.3));\n",
              "      fill: #FFFFFF;\n",
              "    }\n",
              "  </style>\n",
              "\n",
              "      <script>\n",
              "        const buttonEl =\n",
              "          document.querySelector('#df-7e85806a-c62d-4f4a-a34d-bdaa99e437ee button.colab-df-convert');\n",
              "        buttonEl.style.display =\n",
              "          google.colab.kernel.accessAllowed ? 'block' : 'none';\n",
              "\n",
              "        async function convertToInteractive(key) {\n",
              "          const element = document.querySelector('#df-7e85806a-c62d-4f4a-a34d-bdaa99e437ee');\n",
              "          const dataTable =\n",
              "            await google.colab.kernel.invokeFunction('convertToInteractive',\n",
              "                                                     [key], {});\n",
              "          if (!dataTable) return;\n",
              "\n",
              "          const docLinkHtml = 'Like what you see? Visit the ' +\n",
              "            '<a target=\"_blank\" href=https://colab.research.google.com/notebooks/data_table.ipynb>data table notebook</a>'\n",
              "            + ' to learn more about interactive tables.';\n",
              "          element.innerHTML = '';\n",
              "          dataTable['output_type'] = 'display_data';\n",
              "          await google.colab.output.renderOutput(dataTable, element);\n",
              "          const docLink = document.createElement('div');\n",
              "          docLink.innerHTML = docLinkHtml;\n",
              "          element.appendChild(docLink);\n",
              "        }\n",
              "      </script>\n",
              "    </div>\n",
              "  </div>\n",
              "  "
            ]
          },
          "metadata": {},
          "execution_count": 4
        }
      ]
    },
    {
      "cell_type": "code",
      "source": [
        "x=df.iloc[:,0:8]\n",
        "y=df['Outcome']"
      ],
      "metadata": {
        "id": "FXQ_YD_s3Cqd"
      },
      "execution_count": null,
      "outputs": []
    },
    {
      "cell_type": "code",
      "source": [
        "obj=StandardScaler()\n",
        "x_=obj.fit_transform(x)\n"
      ],
      "metadata": {
        "id": "yF8mzTAq53oe"
      },
      "execution_count": null,
      "outputs": []
    },
    {
      "cell_type": "code",
      "source": [
        "x_.shape"
      ],
      "metadata": {
        "colab": {
          "base_uri": "https://localhost:8080/"
        },
        "id": "pL-f0_bZJG0R",
        "outputId": "5c580e09-be7f-4f9c-9167-e2206db30ab6"
      },
      "execution_count": null,
      "outputs": [
        {
          "output_type": "execute_result",
          "data": {
            "text/plain": [
              "(768, 8)"
            ]
          },
          "metadata": {},
          "execution_count": 10
        }
      ]
    },
    {
      "cell_type": "code",
      "source": [
        "Xtrain,Xtest,Ytrain,Ytest=train_test_split(x_,y,test_size=0.1)"
      ],
      "metadata": {
        "id": "OeQ2OThg6DWJ"
      },
      "execution_count": null,
      "outputs": []
    },
    {
      "cell_type": "code",
      "source": [
        "model = models.Sequential()\n",
        "model.add(layers.Dense(10,  activation='relu'))  # input layer requires input_dim param\n",
        "model.add(layers.Dense(50, activation='relu'))\n",
        "model.add(layers.Dense(10, activation='relu'))\n",
        "model.add(layers.Dense(5, activation='relu'))\n",
        "model.add(layers.Dense(1, activation='sigmoid'))"
      ],
      "metadata": {
        "id": "g3ASdu6l6T7j"
      },
      "execution_count": null,
      "outputs": []
    },
    {
      "cell_type": "code",
      "source": [
        "initial_learning_rate = 0.0001\n",
        "lr_schedule = keras.optimizers.schedules.ExponentialDecay(\n",
        "    initial_learning_rate, decay_steps=100000, decay_rate=0.96, staircase=True\n",
        ")\n",
        "model.compile(\n",
        "    loss=\"binary_crossentropy\",\n",
        "    optimizer=keras.optimizers.Adam(learning_rate=lr_schedule),\n",
        "    metrics=[\"accuracy\"],\n",
        ")"
      ],
      "metadata": {
        "id": "96UM1waQ6vX-"
      },
      "execution_count": null,
      "outputs": []
    },
    {
      "cell_type": "code",
      "source": [
        "model_1=model.fit(Xtrain,Ytrain,validation_data=(Xtest,Ytest), epochs=100)"
      ],
      "metadata": {
        "colab": {
          "base_uri": "https://localhost:8080/"
        },
        "id": "3zJMmu7Q_-pw",
        "outputId": "41df8156-345e-4fa5-e739-b8c42a19edd9"
      },
      "execution_count": null,
      "outputs": [
        {
          "output_type": "stream",
          "name": "stdout",
          "text": [
            "Epoch 1/100\n",
            "22/22 [==============================] - 1s 7ms/step - loss: 0.6884 - accuracy: 0.5094 - val_loss: 0.7242 - val_accuracy: 0.4805\n",
            "Epoch 2/100\n",
            "22/22 [==============================] - 0s 2ms/step - loss: 0.6850 - accuracy: 0.5586 - val_loss: 0.7259 - val_accuracy: 0.4416\n",
            "Epoch 3/100\n",
            "22/22 [==============================] - 0s 2ms/step - loss: 0.6818 - accuracy: 0.5991 - val_loss: 0.7272 - val_accuracy: 0.4286\n",
            "Epoch 4/100\n",
            "22/22 [==============================] - 0s 2ms/step - loss: 0.6788 - accuracy: 0.6208 - val_loss: 0.7283 - val_accuracy: 0.4545\n",
            "Epoch 5/100\n",
            "22/22 [==============================] - 0s 3ms/step - loss: 0.6759 - accuracy: 0.6368 - val_loss: 0.7300 - val_accuracy: 0.4675\n",
            "Epoch 6/100\n",
            "22/22 [==============================] - 0s 2ms/step - loss: 0.6730 - accuracy: 0.6440 - val_loss: 0.7313 - val_accuracy: 0.4675\n",
            "Epoch 7/100\n",
            "22/22 [==============================] - 0s 2ms/step - loss: 0.6701 - accuracy: 0.6570 - val_loss: 0.7320 - val_accuracy: 0.4545\n",
            "Epoch 8/100\n",
            "22/22 [==============================] - 0s 2ms/step - loss: 0.6673 - accuracy: 0.6599 - val_loss: 0.7327 - val_accuracy: 0.4675\n",
            "Epoch 9/100\n",
            "22/22 [==============================] - 0s 3ms/step - loss: 0.6642 - accuracy: 0.6657 - val_loss: 0.7332 - val_accuracy: 0.4675\n",
            "Epoch 10/100\n",
            "22/22 [==============================] - 0s 2ms/step - loss: 0.6613 - accuracy: 0.6700 - val_loss: 0.7340 - val_accuracy: 0.4675\n",
            "Epoch 11/100\n",
            "22/22 [==============================] - 0s 2ms/step - loss: 0.6585 - accuracy: 0.6715 - val_loss: 0.7348 - val_accuracy: 0.4675\n",
            "Epoch 12/100\n",
            "22/22 [==============================] - 0s 2ms/step - loss: 0.6557 - accuracy: 0.6715 - val_loss: 0.7361 - val_accuracy: 0.4675\n",
            "Epoch 13/100\n",
            "22/22 [==============================] - 0s 2ms/step - loss: 0.6529 - accuracy: 0.6715 - val_loss: 0.7363 - val_accuracy: 0.4675\n",
            "Epoch 14/100\n",
            "22/22 [==============================] - 0s 2ms/step - loss: 0.6503 - accuracy: 0.6715 - val_loss: 0.7381 - val_accuracy: 0.4675\n",
            "Epoch 15/100\n",
            "22/22 [==============================] - 0s 2ms/step - loss: 0.6472 - accuracy: 0.6715 - val_loss: 0.7388 - val_accuracy: 0.4675\n",
            "Epoch 16/100\n",
            "22/22 [==============================] - 0s 2ms/step - loss: 0.6442 - accuracy: 0.6715 - val_loss: 0.7400 - val_accuracy: 0.4675\n",
            "Epoch 17/100\n",
            "22/22 [==============================] - 0s 2ms/step - loss: 0.6410 - accuracy: 0.6715 - val_loss: 0.7417 - val_accuracy: 0.4675\n",
            "Epoch 18/100\n",
            "22/22 [==============================] - 0s 2ms/step - loss: 0.6375 - accuracy: 0.6715 - val_loss: 0.7418 - val_accuracy: 0.4675\n",
            "Epoch 19/100\n",
            "22/22 [==============================] - 0s 2ms/step - loss: 0.6340 - accuracy: 0.6715 - val_loss: 0.7417 - val_accuracy: 0.4675\n",
            "Epoch 20/100\n",
            "22/22 [==============================] - 0s 2ms/step - loss: 0.6301 - accuracy: 0.6715 - val_loss: 0.7433 - val_accuracy: 0.4675\n",
            "Epoch 21/100\n",
            "22/22 [==============================] - 0s 2ms/step - loss: 0.6259 - accuracy: 0.6715 - val_loss: 0.7434 - val_accuracy: 0.4675\n",
            "Epoch 22/100\n",
            "22/22 [==============================] - 0s 2ms/step - loss: 0.6213 - accuracy: 0.6715 - val_loss: 0.7429 - val_accuracy: 0.4675\n",
            "Epoch 23/100\n",
            "22/22 [==============================] - 0s 2ms/step - loss: 0.6160 - accuracy: 0.6715 - val_loss: 0.7437 - val_accuracy: 0.4675\n",
            "Epoch 24/100\n",
            "22/22 [==============================] - 0s 2ms/step - loss: 0.6106 - accuracy: 0.6715 - val_loss: 0.7455 - val_accuracy: 0.4675\n",
            "Epoch 25/100\n",
            "22/22 [==============================] - 0s 2ms/step - loss: 0.6054 - accuracy: 0.6715 - val_loss: 0.7457 - val_accuracy: 0.4675\n",
            "Epoch 26/100\n",
            "22/22 [==============================] - 0s 2ms/step - loss: 0.6007 - accuracy: 0.6715 - val_loss: 0.7459 - val_accuracy: 0.4675\n",
            "Epoch 27/100\n",
            "22/22 [==============================] - 0s 2ms/step - loss: 0.5961 - accuracy: 0.6715 - val_loss: 0.7471 - val_accuracy: 0.4675\n",
            "Epoch 28/100\n",
            "22/22 [==============================] - 0s 2ms/step - loss: 0.5916 - accuracy: 0.6715 - val_loss: 0.7464 - val_accuracy: 0.4675\n",
            "Epoch 29/100\n",
            "22/22 [==============================] - 0s 3ms/step - loss: 0.5874 - accuracy: 0.6715 - val_loss: 0.7472 - val_accuracy: 0.4675\n",
            "Epoch 30/100\n",
            "22/22 [==============================] - 0s 2ms/step - loss: 0.5833 - accuracy: 0.6715 - val_loss: 0.7468 - val_accuracy: 0.4675\n",
            "Epoch 31/100\n",
            "22/22 [==============================] - 0s 2ms/step - loss: 0.5790 - accuracy: 0.6715 - val_loss: 0.7438 - val_accuracy: 0.4675\n",
            "Epoch 32/100\n",
            "22/22 [==============================] - 0s 2ms/step - loss: 0.5750 - accuracy: 0.6715 - val_loss: 0.7424 - val_accuracy: 0.4675\n",
            "Epoch 33/100\n",
            "22/22 [==============================] - 0s 2ms/step - loss: 0.5711 - accuracy: 0.6715 - val_loss: 0.7413 - val_accuracy: 0.4675\n",
            "Epoch 34/100\n",
            "22/22 [==============================] - 0s 3ms/step - loss: 0.5672 - accuracy: 0.6715 - val_loss: 0.7411 - val_accuracy: 0.4805\n",
            "Epoch 35/100\n",
            "22/22 [==============================] - 0s 2ms/step - loss: 0.5636 - accuracy: 0.6715 - val_loss: 0.7425 - val_accuracy: 0.4805\n",
            "Epoch 36/100\n",
            "22/22 [==============================] - 0s 2ms/step - loss: 0.5598 - accuracy: 0.6715 - val_loss: 0.7392 - val_accuracy: 0.4805\n",
            "Epoch 37/100\n",
            "22/22 [==============================] - 0s 2ms/step - loss: 0.5560 - accuracy: 0.6729 - val_loss: 0.7390 - val_accuracy: 0.4805\n",
            "Epoch 38/100\n",
            "22/22 [==============================] - 0s 2ms/step - loss: 0.5522 - accuracy: 0.6744 - val_loss: 0.7386 - val_accuracy: 0.4805\n",
            "Epoch 39/100\n",
            "22/22 [==============================] - 0s 2ms/step - loss: 0.5484 - accuracy: 0.6773 - val_loss: 0.7364 - val_accuracy: 0.4805\n",
            "Epoch 40/100\n",
            "22/22 [==============================] - 0s 2ms/step - loss: 0.5445 - accuracy: 0.6845 - val_loss: 0.7350 - val_accuracy: 0.4805\n",
            "Epoch 41/100\n",
            "22/22 [==============================] - 0s 2ms/step - loss: 0.5408 - accuracy: 0.6845 - val_loss: 0.7321 - val_accuracy: 0.4935\n",
            "Epoch 42/100\n",
            "22/22 [==============================] - 0s 2ms/step - loss: 0.5370 - accuracy: 0.6845 - val_loss: 0.7303 - val_accuracy: 0.4935\n",
            "Epoch 43/100\n",
            "22/22 [==============================] - 0s 2ms/step - loss: 0.5335 - accuracy: 0.6831 - val_loss: 0.7292 - val_accuracy: 0.4805\n",
            "Epoch 44/100\n",
            "22/22 [==============================] - 0s 2ms/step - loss: 0.5299 - accuracy: 0.6903 - val_loss: 0.7232 - val_accuracy: 0.4805\n",
            "Epoch 45/100\n",
            "22/22 [==============================] - 0s 2ms/step - loss: 0.5263 - accuracy: 0.7135 - val_loss: 0.7213 - val_accuracy: 0.5195\n",
            "Epoch 46/100\n",
            "22/22 [==============================] - 0s 2ms/step - loss: 0.5232 - accuracy: 0.7192 - val_loss: 0.7179 - val_accuracy: 0.5455\n",
            "Epoch 47/100\n",
            "22/22 [==============================] - 0s 2ms/step - loss: 0.5195 - accuracy: 0.7250 - val_loss: 0.7104 - val_accuracy: 0.5584\n",
            "Epoch 48/100\n",
            "22/22 [==============================] - 0s 2ms/step - loss: 0.5164 - accuracy: 0.7308 - val_loss: 0.7049 - val_accuracy: 0.5974\n",
            "Epoch 49/100\n",
            "22/22 [==============================] - 0s 2ms/step - loss: 0.5134 - accuracy: 0.7395 - val_loss: 0.7011 - val_accuracy: 0.6104\n",
            "Epoch 50/100\n",
            "22/22 [==============================] - 0s 3ms/step - loss: 0.5105 - accuracy: 0.7525 - val_loss: 0.6997 - val_accuracy: 0.5974\n",
            "Epoch 51/100\n",
            "22/22 [==============================] - 0s 2ms/step - loss: 0.5077 - accuracy: 0.7583 - val_loss: 0.6953 - val_accuracy: 0.5974\n",
            "Epoch 52/100\n",
            "22/22 [==============================] - 0s 3ms/step - loss: 0.5052 - accuracy: 0.7656 - val_loss: 0.6943 - val_accuracy: 0.6104\n",
            "Epoch 53/100\n",
            "22/22 [==============================] - 0s 2ms/step - loss: 0.5029 - accuracy: 0.7685 - val_loss: 0.6920 - val_accuracy: 0.6104\n",
            "Epoch 54/100\n",
            "22/22 [==============================] - 0s 3ms/step - loss: 0.5004 - accuracy: 0.7742 - val_loss: 0.6889 - val_accuracy: 0.5974\n",
            "Epoch 55/100\n",
            "22/22 [==============================] - 0s 2ms/step - loss: 0.4985 - accuracy: 0.7786 - val_loss: 0.6866 - val_accuracy: 0.5974\n",
            "Epoch 56/100\n",
            "22/22 [==============================] - 0s 2ms/step - loss: 0.4962 - accuracy: 0.7786 - val_loss: 0.6854 - val_accuracy: 0.6234\n",
            "Epoch 57/100\n",
            "22/22 [==============================] - 0s 2ms/step - loss: 0.4941 - accuracy: 0.7815 - val_loss: 0.6828 - val_accuracy: 0.6364\n",
            "Epoch 58/100\n",
            "22/22 [==============================] - 0s 2ms/step - loss: 0.4923 - accuracy: 0.7815 - val_loss: 0.6827 - val_accuracy: 0.6364\n",
            "Epoch 59/100\n",
            "22/22 [==============================] - 0s 2ms/step - loss: 0.4903 - accuracy: 0.7844 - val_loss: 0.6810 - val_accuracy: 0.6364\n",
            "Epoch 60/100\n",
            "22/22 [==============================] - 0s 2ms/step - loss: 0.4885 - accuracy: 0.7829 - val_loss: 0.6775 - val_accuracy: 0.6364\n",
            "Epoch 61/100\n",
            "22/22 [==============================] - 0s 2ms/step - loss: 0.4867 - accuracy: 0.7844 - val_loss: 0.6770 - val_accuracy: 0.6494\n",
            "Epoch 62/100\n",
            "22/22 [==============================] - 0s 2ms/step - loss: 0.4853 - accuracy: 0.7858 - val_loss: 0.6786 - val_accuracy: 0.6494\n",
            "Epoch 63/100\n",
            "22/22 [==============================] - 0s 2ms/step - loss: 0.4833 - accuracy: 0.7858 - val_loss: 0.6736 - val_accuracy: 0.6494\n",
            "Epoch 64/100\n",
            "22/22 [==============================] - 0s 3ms/step - loss: 0.4818 - accuracy: 0.7844 - val_loss: 0.6704 - val_accuracy: 0.6494\n",
            "Epoch 65/100\n",
            "22/22 [==============================] - 0s 2ms/step - loss: 0.4801 - accuracy: 0.7858 - val_loss: 0.6706 - val_accuracy: 0.6494\n",
            "Epoch 66/100\n",
            "22/22 [==============================] - 0s 2ms/step - loss: 0.4785 - accuracy: 0.7858 - val_loss: 0.6676 - val_accuracy: 0.6494\n",
            "Epoch 67/100\n",
            "22/22 [==============================] - 0s 2ms/step - loss: 0.4771 - accuracy: 0.7858 - val_loss: 0.6676 - val_accuracy: 0.6623\n",
            "Epoch 68/100\n",
            "22/22 [==============================] - 0s 2ms/step - loss: 0.4757 - accuracy: 0.7873 - val_loss: 0.6628 - val_accuracy: 0.6753\n",
            "Epoch 69/100\n",
            "22/22 [==============================] - 0s 3ms/step - loss: 0.4740 - accuracy: 0.7858 - val_loss: 0.6622 - val_accuracy: 0.6753\n",
            "Epoch 70/100\n",
            "22/22 [==============================] - 0s 2ms/step - loss: 0.4727 - accuracy: 0.7844 - val_loss: 0.6636 - val_accuracy: 0.6753\n",
            "Epoch 71/100\n",
            "22/22 [==============================] - 0s 2ms/step - loss: 0.4714 - accuracy: 0.7858 - val_loss: 0.6628 - val_accuracy: 0.6753\n",
            "Epoch 72/100\n",
            "22/22 [==============================] - 0s 3ms/step - loss: 0.4700 - accuracy: 0.7873 - val_loss: 0.6595 - val_accuracy: 0.6753\n",
            "Epoch 73/100\n",
            "22/22 [==============================] - 0s 2ms/step - loss: 0.4689 - accuracy: 0.7887 - val_loss: 0.6589 - val_accuracy: 0.6883\n",
            "Epoch 74/100\n",
            "22/22 [==============================] - 0s 2ms/step - loss: 0.4678 - accuracy: 0.7916 - val_loss: 0.6549 - val_accuracy: 0.6883\n",
            "Epoch 75/100\n",
            "22/22 [==============================] - 0s 2ms/step - loss: 0.4666 - accuracy: 0.7916 - val_loss: 0.6570 - val_accuracy: 0.6883\n",
            "Epoch 76/100\n",
            "22/22 [==============================] - 0s 2ms/step - loss: 0.4655 - accuracy: 0.7916 - val_loss: 0.6578 - val_accuracy: 0.6883\n",
            "Epoch 77/100\n",
            "22/22 [==============================] - 0s 2ms/step - loss: 0.4645 - accuracy: 0.7916 - val_loss: 0.6527 - val_accuracy: 0.7013\n",
            "Epoch 78/100\n",
            "22/22 [==============================] - 0s 2ms/step - loss: 0.4636 - accuracy: 0.7916 - val_loss: 0.6515 - val_accuracy: 0.7013\n",
            "Epoch 79/100\n",
            "22/22 [==============================] - 0s 2ms/step - loss: 0.4623 - accuracy: 0.7931 - val_loss: 0.6532 - val_accuracy: 0.7013\n",
            "Epoch 80/100\n",
            "22/22 [==============================] - 0s 2ms/step - loss: 0.4612 - accuracy: 0.7931 - val_loss: 0.6543 - val_accuracy: 0.7013\n",
            "Epoch 81/100\n",
            "22/22 [==============================] - 0s 2ms/step - loss: 0.4605 - accuracy: 0.7916 - val_loss: 0.6531 - val_accuracy: 0.7013\n",
            "Epoch 82/100\n",
            "22/22 [==============================] - 0s 2ms/step - loss: 0.4594 - accuracy: 0.7916 - val_loss: 0.6539 - val_accuracy: 0.7013\n",
            "Epoch 83/100\n",
            "22/22 [==============================] - 0s 2ms/step - loss: 0.4586 - accuracy: 0.7916 - val_loss: 0.6518 - val_accuracy: 0.7013\n",
            "Epoch 84/100\n",
            "22/22 [==============================] - 0s 2ms/step - loss: 0.4578 - accuracy: 0.7916 - val_loss: 0.6534 - val_accuracy: 0.7013\n",
            "Epoch 85/100\n",
            "22/22 [==============================] - 0s 2ms/step - loss: 0.4572 - accuracy: 0.7902 - val_loss: 0.6497 - val_accuracy: 0.7013\n",
            "Epoch 86/100\n",
            "22/22 [==============================] - 0s 2ms/step - loss: 0.4563 - accuracy: 0.7902 - val_loss: 0.6505 - val_accuracy: 0.7013\n",
            "Epoch 87/100\n",
            "22/22 [==============================] - 0s 2ms/step - loss: 0.4557 - accuracy: 0.7902 - val_loss: 0.6550 - val_accuracy: 0.7013\n",
            "Epoch 88/100\n",
            "22/22 [==============================] - 0s 2ms/step - loss: 0.4547 - accuracy: 0.7902 - val_loss: 0.6510 - val_accuracy: 0.7013\n",
            "Epoch 89/100\n",
            "22/22 [==============================] - 0s 2ms/step - loss: 0.4542 - accuracy: 0.7902 - val_loss: 0.6540 - val_accuracy: 0.7013\n",
            "Epoch 90/100\n",
            "22/22 [==============================] - 0s 2ms/step - loss: 0.4533 - accuracy: 0.7902 - val_loss: 0.6507 - val_accuracy: 0.7013\n",
            "Epoch 91/100\n",
            "22/22 [==============================] - 0s 2ms/step - loss: 0.4526 - accuracy: 0.7902 - val_loss: 0.6519 - val_accuracy: 0.7013\n",
            "Epoch 92/100\n",
            "22/22 [==============================] - 0s 2ms/step - loss: 0.4520 - accuracy: 0.7887 - val_loss: 0.6505 - val_accuracy: 0.6883\n",
            "Epoch 93/100\n",
            "22/22 [==============================] - 0s 2ms/step - loss: 0.4513 - accuracy: 0.7887 - val_loss: 0.6517 - val_accuracy: 0.6883\n",
            "Epoch 94/100\n",
            "22/22 [==============================] - 0s 2ms/step - loss: 0.4506 - accuracy: 0.7873 - val_loss: 0.6493 - val_accuracy: 0.6883\n",
            "Epoch 95/100\n",
            "22/22 [==============================] - 0s 2ms/step - loss: 0.4501 - accuracy: 0.7873 - val_loss: 0.6514 - val_accuracy: 0.6883\n",
            "Epoch 96/100\n",
            "22/22 [==============================] - 0s 2ms/step - loss: 0.4494 - accuracy: 0.7873 - val_loss: 0.6518 - val_accuracy: 0.6883\n",
            "Epoch 97/100\n",
            "22/22 [==============================] - 0s 2ms/step - loss: 0.4489 - accuracy: 0.7873 - val_loss: 0.6508 - val_accuracy: 0.6883\n",
            "Epoch 98/100\n",
            "22/22 [==============================] - 0s 2ms/step - loss: 0.4482 - accuracy: 0.7887 - val_loss: 0.6487 - val_accuracy: 0.6883\n",
            "Epoch 99/100\n",
            "22/22 [==============================] - 0s 2ms/step - loss: 0.4476 - accuracy: 0.7887 - val_loss: 0.6499 - val_accuracy: 0.6883\n",
            "Epoch 100/100\n",
            "22/22 [==============================] - 0s 2ms/step - loss: 0.4471 - accuracy: 0.7887 - val_loss: 0.6517 - val_accuracy: 0.6883\n"
          ]
        }
      ]
    },
    {
      "cell_type": "code",
      "source": [
        "result=model.evaluate(Xtest,Ytest)"
      ],
      "metadata": {
        "id": "LQjAa1CCAK0D",
        "colab": {
          "base_uri": "https://localhost:8080/"
        },
        "outputId": "f8325896-1acf-430c-e708-648a8da41cf8"
      },
      "execution_count": null,
      "outputs": [
        {
          "output_type": "stream",
          "name": "stdout",
          "text": [
            "3/3 [==============================] - 0s 3ms/step - loss: 1.4684 - accuracy: 0.5714\n"
          ]
        }
      ]
    },
    {
      "cell_type": "code",
      "source": [
        "import matplotlib.pyplot as plt"
      ],
      "metadata": {
        "id": "x3W38vjWrRNc"
      },
      "execution_count": null,
      "outputs": []
    },
    {
      "cell_type": "code",
      "source": [
        "plt.plot(model_1.history['loss'], label='loss')\n",
        "plt.plot(model_1.history['val_accuracy'], label = 'val_accuracy')\n",
        "plt.xlabel('Epoch')\n",
        "plt.ylabel('loss')\n",
        "plt.ylim([0, 0.8])\n",
        "plt.legend(loc='lower right')"
      ],
      "metadata": {
        "id": "LqHxZfSYAUdt",
        "colab": {
          "base_uri": "https://localhost:8080/",
          "height": 300
        },
        "outputId": "82bb303a-091c-4fcd-a923-9d7b88cca233"
      },
      "execution_count": null,
      "outputs": [
        {
          "output_type": "execute_result",
          "data": {
            "text/plain": [
              "<matplotlib.legend.Legend at 0x7f84a7f3c710>"
            ]
          },
          "metadata": {},
          "execution_count": 20
        },
        {
          "output_type": "display_data",
          "data": {
            "text/plain": [
              "<Figure size 432x288 with 1 Axes>"
            ],
            "image/png": "[encoded data removed]"
          },
          "metadata": {
            "needs_background": "light"
          }
        }
      ]
    },
    {
      "cell_type": "code",
      "source": [],
      "metadata": {
        "id": "GlQKMvQTrP6b"
      },
      "execution_count": null,
      "outputs": []
    }
  ]
}